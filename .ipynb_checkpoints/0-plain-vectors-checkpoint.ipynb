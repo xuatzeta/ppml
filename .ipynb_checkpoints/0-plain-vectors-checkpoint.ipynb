{
 "cells": [
  {
   "cell_type": "markdown",
   "id": "13dc9e34-9968-4981-886f-840729a36951",
   "metadata": {},
   "source": [
    "# 1. Common"
   ]
  },
  {
   "cell_type": "code",
   "execution_count": 1,
   "id": "6ab9096b-b60f-41ca-8448-163cd31a7ac7",
   "metadata": {},
   "outputs": [],
   "source": [
    "import base64\n",
    "import tenseal as ts\n",
    "import numpy as np"
   ]
  },
  {
   "cell_type": "code",
   "execution_count": 2,
   "id": "10c6e5f1-26d7-4c49-85ab-a07c7877e0f9",
   "metadata": {},
   "outputs": [],
   "source": [
    "def write_data(file_name, data):\n",
    "    if type(data) == bytes:\n",
    "        #bytes to base64\n",
    "        # print(len(data))\n",
    "        data = base64.b64encode(data)\n",
    "         \n",
    "    with open(file_name, 'wb') as f: \n",
    "        f.write(data)\n",
    " \n",
    "def read_data(file_name):\n",
    "    with open(file_name, \"rb\") as f:\n",
    "        data = f.read()\n",
    "    #base64 to bytes\n",
    "    return base64.b64decode(data)"
   ]
  },
  {
   "cell_type": "markdown",
   "id": "b923cc6a-b933-49f8-b8e1-3490e386d763",
   "metadata": {},
   "source": [
    "# 2. Saving Sk, Pk\n",
    "\n",
    "\n",
    "In TenSEAL\n",
    "- plain_modulus: is not used for CKKS\n",
    "- poly_modulus_degree: must be a power of 2\n",
    "- coeff_mod_bit_sizes: each of the prime numbers in the coefficient modulus must be at most 60 bits and must be congruent to 1 modulo 2*poly_modulus_degree.\n"
   ]
  },
  {
   "cell_type": "code",
   "execution_count": 3,
   "id": "5938b418-d228-445b-a706-6254797d5e80",
   "metadata": {},
   "outputs": [],
   "source": [
    "context = ts.context(ts.SCHEME_TYPE.BFV, poly_modulus_degree=4096, plain_modulus=1032193)\n",
    "# context = ts.context(ts.SCHEME_TYPE.CKKS, poly_modulus_degree = 4096, coeff_mod_bit_sizes = [60, 40, 40, 60])\n",
    "# context.generate_galois_keys()\n",
    "# context.global_scale = 2**40"
   ]
  },
  {
   "cell_type": "code",
   "execution_count": 4,
   "id": "5af05a77-a804-4778-8657-1dbd92d2be11",
   "metadata": {},
   "outputs": [
    {
     "name": "stdout",
     "output_type": "stream",
     "text": [
      "->The context is private True\n",
      "\n",
      "Drop the secret_key from the context\n",
      "->The context is private False\n",
      "\n",
      "Cleaning\n",
      "Cleaned\n"
     ]
    }
   ],
   "source": [
    "print(\"->The context is private\", context.is_private())\n",
    "secret_context = context.serialize(save_secret_key = True)\n",
    "write_data(\"secret.txt\", secret_context)\n",
    "\n",
    "\n",
    "print(\"\\nDrop the secret_key from the context\")\n",
    "context.make_context_public()\n",
    "print(\"->The context is private\", context.is_private())\n",
    "public_context = context.serialize()\n",
    "write_data(\"public.txt\", public_context)\n",
    "\n",
    "\n",
    "print(\"\\nCleaning\")\n",
    "del context\n",
    "del secret_context, public_context\n",
    "print(\"Cleaned\")"
   ]
  },
  {
   "cell_type": "markdown",
   "id": "8204e34d-e7cf-4f0e-af96-32438526c062",
   "metadata": {},
   "source": [
    "# 3. Sample input vectors for calculation"
   ]
  },
  {
   "cell_type": "code",
   "execution_count": 5,
   "id": "9ca25294-8765-4876-9a88-d2d2fdda6d0a",
   "metadata": {},
   "outputs": [
    {
     "name": "stdout",
     "output_type": "stream",
     "text": [
      "plain_v0 [29 38 66 55 27 10 36 12 71 37]\n",
      "plain_v1 [46 83 22 47  3 16 64 61 17 50]\n"
     ]
    }
   ],
   "source": [
    "N = 10\n",
    "\n",
    "plain_v0 = np.random.randint(0, 100, N)\n",
    "plain_v1 = np.random.randint(0, 100, N)\n",
    "\n",
    "print(\"plain_v0\", plain_v0)\n",
    "print(\"plain_v1\", plain_v1)"
   ]
  },
  {
   "cell_type": "code",
   "execution_count": 6,
   "id": "4e5148e7-d9eb-4c3c-a4a1-ce8ead7a3cc5",
   "metadata": {},
   "outputs": [
    {
     "name": "stdout",
     "output_type": "stream",
     "text": [
      "Addition result [75, 121, 88, 102, 30, 26, 100, 73, 88, 87]\n",
      "Substraction result [-17, -45, 44, 8, 24, -6, -28, -49, 54, -13]\n",
      "Multiplication result [1334, 3154, 1452, 2585, 81, 160, 2304, 732, 1207, 1850]\n"
     ]
    }
   ],
   "source": [
    "print(\"Addition result\", (plain_v0 + plain_v1).tolist())\n",
    "print(\"Substraction result\", (plain_v0 - plain_v1).tolist())\n",
    "print(\"Multiplication result\", (plain_v0 * plain_v1).tolist())"
   ]
  },
  {
   "cell_type": "markdown",
   "id": "2aa6ff2f-ffcb-4b9a-a265-c7f81cd3dbe4",
   "metadata": {},
   "source": [
    "## 3.1 Encrypt sample vectors"
   ]
  },
  {
   "cell_type": "code",
   "execution_count": 7,
   "id": "90e7202d-b1ac-476a-a89c-88f57814cbfb",
   "metadata": {},
   "outputs": [
    {
     "name": "stdout",
     "output_type": "stream",
     "text": [
      "\n",
      "Cleaning\n",
      "Cleaned\n"
     ]
    }
   ],
   "source": [
    "context = ts.context_from(read_data(\"secret.txt\"))\n",
    "\n",
    "enc_v0 = ts.bfv_vector(context, plain_v0)\n",
    "enc_v1 = ts.bfv_vector(context, plain_v1)\n",
    "\n",
    "enc_v0_proto = enc_v0.serialize()\n",
    "enc_v1_proto = enc_v1.serialize()\n",
    "\n",
    "write_data(\"enc_v0.txt\", enc_v0_proto)\n",
    "write_data(\"enc_v1.txt\", enc_v1_proto)\n",
    "\n",
    "\n",
    "\n",
    "print(\"\\nCleaning\")\n",
    "\n",
    "del plain_v0, plain_v1\n",
    "del enc_v0, enc_v1\n",
    "del enc_v0_proto, enc_v1_proto\n",
    "\n",
    "print(\"Cleaned\")"
   ]
  },
  {
   "cell_type": "markdown",
   "id": "6dea544a-02c1-4834-976a-6dd0f5fb3707",
   "metadata": {},
   "source": [
    "# 4. Cloud act\n",
    "\n",
    "Does have public key. But not secret key"
   ]
  },
  {
   "cell_type": "code",
   "execution_count": 8,
   "id": "f14d46b1-a9ca-440e-a993-4fd79cf300a9",
   "metadata": {},
   "outputs": [],
   "source": [
    "context = ts.context_from(read_data(\"public.txt\"))\n",
    "\n",
    "enc_v0_proto = read_data(\"enc_v0.txt\")\n",
    "enc_v0 = ts.lazy_bfv_vector_from(enc_v0_proto)\n",
    "enc_v0.link_context(context)\n",
    "\n",
    "\n",
    "enc_v1_proto = read_data(\"enc_v1.txt\")\n",
    "enc_v1 = ts.lazy_bfv_vector_from(enc_v1_proto)\n",
    "enc_v1.link_context(context)\n",
    "\n",
    "\n",
    "enc_sum = enc_v0 + enc_v1\n",
    "enc_sub = enc_v0 - enc_v1\n",
    "enc_mul = enc_v0 * enc_v1\n",
    "# does not support divisions but we can multiple with it's inversion\n",
    "\n",
    "write_data(\"enc_sum.txt\", enc_sum.serialize())\n",
    "write_data(\"enc_sub.txt\", enc_sub.serialize())\n",
    "write_data(\"enc_mul.txt\", enc_mul.serialize())"
   ]
  },
  {
   "cell_type": "markdown",
   "id": "a35680bc-a4a0-44e9-9b27-c01c752a857a",
   "metadata": {},
   "source": [
    "# 5. Client act\n",
    "\n",
    "where client has secret key"
   ]
  },
  {
   "cell_type": "code",
   "execution_count": 9,
   "id": "caff16aa-9ad7-48ae-a600-56737dffe9f2",
   "metadata": {},
   "outputs": [
    {
     "name": "stdout",
     "output_type": "stream",
     "text": [
      "\n",
      "Decrypt\n",
      "\n",
      "plain_sum [75, 121, 88, 102, 30, 26, 100, 73, 88, 87]\n",
      "plain_sub [-17, -45, 44, 8, 24, -6, -28, -49, 54, -13]\n",
      "plain_mul [1334, 3154, 1452, 2585, 81, 160, 2304, 732, 1207, 1850]\n"
     ]
    }
   ],
   "source": [
    "context = ts.context_from(read_data(\"secret.txt\"))\n",
    "\n",
    "enc_sum_proto = read_data(\"enc_sum.txt\")\n",
    "enc_sum = ts.lazy_bfv_vector_from(enc_sum_proto)\n",
    "enc_sum.link_context(context)\n",
    "\n",
    "enc_sub_proto = read_data(\"enc_sub.txt\")\n",
    "enc_sub = ts.lazy_bfv_vector_from(enc_sub_proto)\n",
    "enc_sub.link_context(context)\n",
    "\n",
    "enc_mul_proto = read_data(\"enc_mul.txt\")\n",
    "enc_mul = ts.lazy_bfv_vector_from(enc_mul_proto)\n",
    "enc_mul.link_context(context)\n",
    "\n",
    "\n",
    "\n",
    "print(\"\\nDecrypt\\n\")\n",
    "\n",
    "plain_sum = enc_sum.decrypt()\n",
    "print(\"plain_sum\", plain_sum)\n",
    "\n",
    "plain_sub = enc_sub.decrypt()\n",
    "print(\"plain_sub\", plain_sub)\n",
    "\n",
    "plain_mul = enc_mul.decrypt()\n",
    "print(\"plain_mul\", plain_mul)\n"
   ]
  }
 ],
 "metadata": {
  "kernelspec": {
   "display_name": "Python 3 (ipykernel)",
   "language": "python",
   "name": "python3"
  },
  "language_info": {
   "codemirror_mode": {
    "name": "ipython",
    "version": 3
   },
   "file_extension": ".py",
   "mimetype": "text/x-python",
   "name": "python",
   "nbconvert_exporter": "python",
   "pygments_lexer": "ipython3",
   "version": "3.8.18"
  }
 },
 "nbformat": 4,
 "nbformat_minor": 5
}
